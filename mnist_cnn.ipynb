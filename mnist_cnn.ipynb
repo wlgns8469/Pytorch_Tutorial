{
  "nbformat": 4,
  "nbformat_minor": 0,
  "metadata": {
    "colab": {
      "name": "Untitled0.ipynb",
      "provenance": [],
      "collapsed_sections": [],
      "authorship_tag": "ABX9TyPyxSacJyc5xzy9IQcOXHoO"
    },
    "kernelspec": {
      "name": "python3",
      "display_name": "Python 3"
    }
  },
  "cells": [
    {
      "cell_type": "code",
      "metadata": {
        "id": "WUktpzFa1sI4"
      },
      "source": [
        "import torch\n",
        "import torchvision.datasets as dsets\n",
        "import torchvision.transforms as transforms\n",
        "\n",
        "import torch.nn.init\n",
        "import torch.nn as nn"
      ],
      "execution_count": 47,
      "outputs": []
    },
    {
      "cell_type": "code",
      "source": [
        "device = 'cuda' if torch.cuda.is_available() else 'cpu'\n",
        "\n",
        "torch.manual_seed(777)\n",
        "if device == 'cuda':\n",
        "  torch.cuda.manual_seed_all(777)"
      ],
      "metadata": {
        "id": "4ZevJcznXqBU"
      },
      "execution_count": 48,
      "outputs": []
    },
    {
      "cell_type": "code",
      "source": [
        "#parameters\n",
        "learning_rate = 0.001\n",
        "training_epochs = 15\n",
        "batch_size = 100"
      ],
      "metadata": {
        "id": "FsLe5k-hYDpN"
      },
      "execution_count": 49,
      "outputs": []
    },
    {
      "cell_type": "code",
      "source": [
        "#MNIST dataset\n",
        "\n",
        "mnist_train = dsets.MNIST(root = 'MNIST_data/',\n",
        "                          train = True,\n",
        "                          transform = transforms.ToTensor(),\n",
        "                          download = True)\n",
        "\n",
        "mnist_test = dsets.MNIST(root = 'MNIST_data/',\n",
        "                         train = False,\n",
        "                         transform = transforms.ToTensor(),\n",
        "                         download = True\n",
        "                         )"
      ],
      "metadata": {
        "id": "n0EX899hYLEV"
      },
      "execution_count": 50,
      "outputs": []
    },
    {
      "cell_type": "code",
      "source": [
        "data_loader = torch.utils.data.DataLoader(dataset = mnist_train,\n",
        "                                          batch_size = batch_size,\n",
        "                                          shuffle = True,\n",
        "                                          drop_last = True\n",
        "                                          )"
      ],
      "metadata": {
        "id": "fq5PRQ_bYEEc"
      },
      "execution_count": 51,
      "outputs": []
    },
    {
      "cell_type": "code",
      "source": [
        "class CNN(nn.Module):\n",
        "\n",
        "  def __init__(self):\n",
        "    super(CNN, self).__init__()\n",
        "    self.layer1 = nn.Sequential(\n",
        "        nn.Conv2d(1,32,kernel_size = 3,stride = 1, padding = 1),\n",
        "        nn.ReLU(),\n",
        "        nn.MaxPool2d(2)\n",
        "    )\n",
        "    self.layer2 = nn.Sequential(\n",
        "        nn.Conv2d(32,64, kernel_size =3, stride =1 , padding =1),\n",
        "        nn.ReLU(),\n",
        "        nn.MaxPool2d(2)\n",
        "    )\n",
        "\n",
        "    self.fc = nn.Linear(7*7*64,10, bias = True)\n",
        "    torch.nn.init.xavier_uniform_(self.fc.weight)\n",
        "  \n",
        "  def forward(self, x):\n",
        "    out = self.layer1(x)\n",
        "    out = self.layer2(out)\n",
        "\n",
        "    out = out.view(out.size(0),-1)\n",
        "    out = self.fc(out)\n",
        "\n",
        "    return out\n",
        "  \n",
        "\n"
      ],
      "metadata": {
        "id": "0Qnrzhd8ZRrG"
      },
      "execution_count": 52,
      "outputs": []
    },
    {
      "cell_type": "code",
      "source": [
        "model = CNN().to(device)"
      ],
      "metadata": {
        "id": "PDekoXzmZSRd"
      },
      "execution_count": 53,
      "outputs": []
    },
    {
      "cell_type": "code",
      "source": [
        "criterion = nn.CrossEntropyLoss().to(device)\n",
        "optimizer = torch.optim.Adam(model.parameters(), lr= learning_rate)"
      ],
      "metadata": {
        "id": "pKyPBz7FbZ2R"
      },
      "execution_count": 54,
      "outputs": []
    },
    {
      "cell_type": "code",
      "source": [
        "# training\n",
        "total_batch = len(data_loader)\n",
        "\n",
        "\n",
        "for epoch in range(training_epochs):\n",
        "  avg_cost = 0\n",
        "  \n",
        "  for X, Y in data_loader:\n",
        "    X = X.to(device)\n",
        "    Y = Y.to(device)\n",
        "\n",
        "    optimizer.zero_grad()\n",
        "    hypothesis = model(X)\n",
        "\n",
        "    cost = criterion(hypothesis, Y)\n",
        "    cost.backward()\n",
        "    optimizer.step()\n",
        "\n",
        "    avg_cost += cost / total_batch\n",
        "\n",
        "  print('[Epoch:{}] cost = {}'.format(epoch+1, avg_cost))\n",
        "print('Learning Finished')"
      ],
      "metadata": {
        "colab": {
          "base_uri": "https://localhost:8080/"
        },
        "id": "3OidskFDbOlb",
        "outputId": "17a56e6b-6c8d-41a4-dd09-24ab797d9123"
      },
      "execution_count": 55,
      "outputs": [
        {
          "output_type": "stream",
          "name": "stdout",
          "text": [
            "[Epoch:1] cost = 0.22565898299217224\n",
            "[Epoch:2] cost = 0.0629897192120552\n",
            "[Epoch:3] cost = 0.04626385495066643\n",
            "[Epoch:4] cost = 0.03747444972395897\n",
            "[Epoch:5] cost = 0.031500980257987976\n",
            "[Epoch:6] cost = 0.02605624310672283\n",
            "[Epoch:7] cost = 0.021788928657770157\n",
            "[Epoch:8] cost = 0.018415965139865875\n",
            "[Epoch:9] cost = 0.016283579170703888\n",
            "[Epoch:10] cost = 0.013325847685337067\n",
            "[Epoch:11] cost = 0.010029090568423271\n",
            "[Epoch:12] cost = 0.009885050356388092\n",
            "[Epoch:13] cost = 0.008574051782488823\n",
            "[Epoch:14] cost = 0.006150357890874147\n",
            "[Epoch:15] cost = 0.0072083198465406895\n",
            "Learning Finished\n"
          ]
        }
      ]
    },
    {
      "cell_type": "code",
      "source": [
        "with torch.no_grad():\n",
        "  X_test = mnist_test.test_data.view(len(mnist_test),1,28,28).float().to(device)\n",
        "  Y_test = mnist_test.test_labels.to(device)\n",
        "\n",
        "  prediction = model(X_test)\n",
        "  correct_prediction = torch.argmax(prediction, 1) == Y_test\n",
        "  accuracy = correct_prediction.float().mean()\n",
        "  print('Accuracy: ', accuracy.item())"
      ],
      "metadata": {
        "colab": {
          "base_uri": "https://localhost:8080/"
        },
        "id": "Q6iy7o2_feOn",
        "outputId": "9e89e2e7-d84c-45a5-f3f3-1c5cfd1ea04a"
      },
      "execution_count": 56,
      "outputs": [
        {
          "output_type": "stream",
          "name": "stderr",
          "text": [
            "/usr/local/lib/python3.7/dist-packages/torchvision/datasets/mnist.py:67: UserWarning: test_data has been renamed data\n",
            "  warnings.warn(\"test_data has been renamed data\")\n",
            "/usr/local/lib/python3.7/dist-packages/torchvision/datasets/mnist.py:57: UserWarning: test_labels has been renamed targets\n",
            "  warnings.warn(\"test_labels has been renamed targets\")\n"
          ]
        },
        {
          "output_type": "stream",
          "name": "stdout",
          "text": [
            "Accuracy:  0.9858999848365784\n"
          ]
        }
      ]
    },
    {
      "cell_type": "code",
      "source": [
        ""
      ],
      "metadata": {
        "id": "GmmVGrW9hBKv"
      },
      "execution_count": null,
      "outputs": []
    }
  ]
}