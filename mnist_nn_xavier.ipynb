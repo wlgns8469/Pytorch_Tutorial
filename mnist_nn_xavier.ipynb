{
  "nbformat": 4,
  "nbformat_minor": 0,
  "metadata": {
    "colab": {
      "name": "mnist_nn_xavier.ipynb",
      "provenance": [],
      "authorship_tag": "ABX9TyOhBJ+RbANW2DmYuUU3FWFt"
    },
    "kernelspec": {
      "name": "python3",
      "display_name": "Python 3"
    },
    "language_info": {
      "name": "python"
    }
  },
  "cells": [
    {
      "cell_type": "code",
      "execution_count": 2,
      "metadata": {
        "id": "BtlOu2Mvc4Lg"
      },
      "outputs": [],
      "source": [
        "import torch\n",
        "import torchvision.datasets as dsets\n",
        "import torchvision.transforms as transforms\n",
        "import random"
      ]
    },
    {
      "cell_type": "code",
      "source": [
        "device = 'cuda' if torch.cuda.is_available() else 'cpu'\n",
        "\n",
        "# for reproducibility\n",
        "random.seed(777)\n",
        "torch.manual_seed(777)\n",
        "if device == 'cuda':\n",
        "  torch.cuda.manual_seed_all(777)"
      ],
      "metadata": {
        "id": "a737fublf86K"
      },
      "execution_count": 4,
      "outputs": []
    },
    {
      "cell_type": "code",
      "source": [
        "# parameters\n",
        "learning_rate = 0.001\n",
        "training_epochs = 15\n",
        "batch_size = 100"
      ],
      "metadata": {
        "id": "Vdky-RHPgVH5"
      },
      "execution_count": 5,
      "outputs": []
    },
    {
      "cell_type": "code",
      "source": [
        "# MNIST dataset\n",
        "mnist_train = dsets.MNIST(root = 'MNIST_data/', train = True, transform = transforms.ToTensor(), download = True)\n",
        "mnist_test = dsets.MNIST(root = 'MNIST_data/', train = False, transform = transforms.ToTensor(), download = True)\n",
        "\n"
      ],
      "metadata": {
        "id": "ucosZrLth1Na"
      },
      "execution_count": 8,
      "outputs": []
    },
    {
      "cell_type": "code",
      "source": [
        "# dataset loader\n",
        "data_loader = torch.utils.data.DataLoader(dataset = mnist_train, batch_size = batch_size, shuffle = True, drop_last= True)"
      ],
      "metadata": {
        "id": "p1FtCQMehpYB"
      },
      "execution_count": 9,
      "outputs": []
    },
    {
      "cell_type": "code",
      "source": [
        "# nn layers\n",
        "linear1 = torch.nn.Linear(784,256, bias = True)\n",
        "linear2 = torch.nn.Linear(256,256, bias = True)\n",
        "linear3 = torch.nn.Linear(256,10, bias = True)\n",
        "relu = torch.nn.ReLU()"
      ],
      "metadata": {
        "id": "1_xaNIqoik3q"
      },
      "execution_count": 14,
      "outputs": []
    },
    {
      "cell_type": "code",
      "source": [
        "# xavier initialization\n",
        "torch.nn.init.xavier_uniform_(linear1.weight)\n",
        "torch.nn.init.xavier_uniform_(linear2.weight)\n",
        "torch.nn.init.xavier_uniform_(linear3.weight)"
      ],
      "metadata": {
        "colab": {
          "base_uri": "https://localhost:8080/"
        },
        "id": "Lou5ZaBAkuPQ",
        "outputId": "5dca851b-5d70-4919-a3da-fa5b8aa59a21"
      },
      "execution_count": 15,
      "outputs": [
        {
          "output_type": "execute_result",
          "data": {
            "text/plain": [
              "Parameter containing:\n",
              "tensor([[ 0.0453,  0.1376,  0.0451,  ..., -0.0096,  0.1334, -0.1393],\n",
              "        [-0.1257, -0.0956, -0.1335,  ..., -0.1085,  0.1030,  0.0254],\n",
              "        [ 0.0200, -0.0099,  0.1434,  ...,  0.0372,  0.0269,  0.0924],\n",
              "        ...,\n",
              "        [-0.0163,  0.0534, -0.0541,  ...,  0.0991, -0.0501,  0.0980],\n",
              "        [ 0.1128,  0.1445,  0.1208,  ..., -0.0029, -0.0115, -0.0077],\n",
              "        [-0.1209, -0.0056, -0.0899,  ...,  0.0567,  0.0614, -0.0351]],\n",
              "       requires_grad=True)"
            ]
          },
          "metadata": {},
          "execution_count": 15
        }
      ]
    },
    {
      "cell_type": "code",
      "source": [
        "# model\n",
        "model = torch.nn.Sequential(linear1, relu, linear2, relu,linear3).to(device)"
      ],
      "metadata": {
        "id": "82VkVWCqktUq"
      },
      "execution_count": 16,
      "outputs": []
    },
    {
      "cell_type": "code",
      "source": [
        "# define cost/loss & optimizer\n",
        "\n",
        "criterion = torch.nn.CrossEntropyLoss().to(device) #softmax is internally computed\n",
        "optimizer = torch.optim.Adam(model.parameters(), lr = learning_rate)\n"
      ],
      "metadata": {
        "id": "Sf4r6E2JlXA3"
      },
      "execution_count": 17,
      "outputs": []
    },
    {
      "cell_type": "code",
      "source": [
        "total_batch = len(data_loader)\n",
        "for epoch in range(training_epochs):\n",
        "  avg_cost = 0\n",
        "\n",
        "  for X, Y in data_loader:\n",
        "    # reshape input image into [batch_size by 784]\n",
        "    # label is not one-hot encoded\n",
        "\n",
        "    X = X.view(-1,28*28).to(device)\n",
        "    Y = Y.to(device)\n",
        "\n",
        "    optimizer.zero_grad()\n",
        "    hypothesis = model(X)\n",
        "    cost = criterion(hypothesis, Y)\n",
        "    cost.backward()\n",
        "    optimizer.step()\n",
        "\n",
        "    avg_cost += cost/total_batch\n",
        "\n",
        "  print('Epoch:', '%04d' % (epoch + 1), 'cost =', '{:.9f}'.format(avg_cost))\n",
        "\n",
        "print('Learning finished')"
      ],
      "metadata": {
        "colab": {
          "base_uri": "https://localhost:8080/"
        },
        "id": "e2BuXG3_l7zi",
        "outputId": "bd086298-e2e9-4b1b-8f96-9f5f94eb4398"
      },
      "execution_count": 18,
      "outputs": [
        {
          "output_type": "stream",
          "name": "stdout",
          "text": [
            "Epoch: 0001 cost = 0.247675881\n",
            "Epoch: 0002 cost = 0.093973473\n",
            "Epoch: 0003 cost = 0.061888341\n",
            "Epoch: 0004 cost = 0.044724789\n",
            "Epoch: 0005 cost = 0.031902771\n",
            "Epoch: 0006 cost = 0.024752134\n",
            "Epoch: 0007 cost = 0.022567596\n",
            "Epoch: 0008 cost = 0.016049428\n",
            "Epoch: 0009 cost = 0.017939884\n",
            "Epoch: 0010 cost = 0.015476191\n",
            "Epoch: 0011 cost = 0.011830999\n",
            "Epoch: 0012 cost = 0.009511827\n",
            "Epoch: 0013 cost = 0.013351304\n",
            "Epoch: 0014 cost = 0.009573714\n",
            "Epoch: 0015 cost = 0.011500275\n",
            "Learning finished\n"
          ]
        }
      ]
    },
    {
      "cell_type": "code",
      "source": [
        "# Test the model useing test sets\n",
        "\n",
        "with torch.no_grad():\n",
        "  X_test = mnist_test.test_data.view(-1,28*28).float().to(device)\n",
        "  Y_test = mnist_test.test_labels.to(device)\n",
        "\n",
        "  prediction = model(X_test)\n",
        "  correct_prediction = torch.argmax(prediction, 1)== Y_test\n",
        "  accuracy= correct_prediction.float().mean()\n",
        "  print('Accuracy: ', accuracy.item() )\n",
        "\n",
        "  # Get one and predict\n",
        "  r= random.randint(0, len(mnist_test) - 1)\n",
        "  X_single_data = mnist_test.test_data[r:r+1].view(-1, 28*28).float().to(device)\n",
        "  Y_single_data = mnist_test.test_labels[r:r+1].to(device)\n",
        "\n",
        "  print('Label: ', Y_single_data.item())\n",
        "  single_prediction = model(X_single_data)\n",
        "  print('Prediction: ', torch.argmax(single_prediction,1).item())\n"
      ],
      "metadata": {
        "colab": {
          "base_uri": "https://localhost:8080/"
        },
        "id": "2PEuulnHph5g",
        "outputId": "4d06788c-297c-4dfd-b6ef-a153eb8fd8df"
      },
      "execution_count": 19,
      "outputs": [
        {
          "output_type": "stream",
          "name": "stdout",
          "text": [
            "Accuracy:  0.9793000221252441\n",
            "Label:  8\n",
            "Prediction:  8\n"
          ]
        },
        {
          "output_type": "stream",
          "name": "stderr",
          "text": [
            "/usr/local/lib/python3.7/dist-packages/torchvision/datasets/mnist.py:67: UserWarning: test_data has been renamed data\n",
            "  warnings.warn(\"test_data has been renamed data\")\n",
            "/usr/local/lib/python3.7/dist-packages/torchvision/datasets/mnist.py:57: UserWarning: test_labels has been renamed targets\n",
            "  warnings.warn(\"test_labels has been renamed targets\")\n"
          ]
        }
      ]
    }
  ]
}